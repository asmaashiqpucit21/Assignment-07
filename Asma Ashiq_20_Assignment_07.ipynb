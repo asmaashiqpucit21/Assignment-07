{
 "cells": [
  {
   "cell_type": "code",
   "execution_count": 11,
   "id": "7577a715",
   "metadata": {},
   "outputs": [
    {
     "name": "stdout",
     "output_type": "stream",
     "text": [
      "8.0\n"
     ]
    }
   ],
   "source": [
    "                                             #Assignment-07 (Module_in_Python)\n",
    "#\"Explain the difference between import module and from module import *. Provide an example for each\"\n",
    "Import Module:-\n",
    "This syntax imports the entire module and makes its contents easily accessible using the module name as a prefix.\n",
    "# Example of import module\n",
    "import math\n",
    "result = math.sqrt(64)\n",
    "print(result)"
   ]
  },
  {
   "cell_type": "code",
   "execution_count": 20,
   "id": "090d6585",
   "metadata": {},
   "outputs": [
    {
     "name": "stdout",
     "output_type": "stream",
     "text": [
      "8.0\n"
     ]
    }
   ],
   "source": [
    "#From Module Import:-\n",
    "##This syntax imports all names defined in the module directly into the current namespace. It is generally discouraged because it can lead to naming conflicts and make it harder to track where each item comes from.\n",
    "# Example of from module import\n",
    "from math import *\n",
    "result = sqrt(64)\n",
    "print(result)"
   ]
  },
  {
   "cell_type": "code",
   "execution_count": 22,
   "id": "5fc16f0d",
   "metadata": {},
   "outputs": [
    {
     "name": "stdout",
     "output_type": "stream",
     "text": [
      "4.0\n",
      "4.0\n"
     ]
    }
   ],
   "source": [
    "\"What is an alias, and how can it be used while importing a module? Provide an example\"\n",
    "#In Python, an alias is an alternate name assigned to a module, class, or function. Aliases are used to provide a shorter or more convenient name for an entity, making the code more readable or avoiding naming conflicts. They are particularly useful when dealing with modules with long or commonly-used names.\n",
    "#You can create an alias for a module using the as keyword during the import statement.\n",
    "#Here's an example using the math module with and without an alias:\n",
    "# Without alias\n",
    "import math\n",
    "result1 = math.sqrt(16)\n",
    "print(result1)\n",
    "# With alias\n",
    "import math as m\n",
    "result2 = m.sqrt(16)\n",
    "print(result2)"
   ]
  },
  {
   "cell_type": "code",
   "execution_count": 41,
   "id": "3a3520ef",
   "metadata": {},
   "outputs": [
    {
     "name": "stdout",
     "output_type": "stream",
     "text": [
      "The module math does not have a 'hello' function.\n"
     ]
    }
   ],
   "source": [
    "\"Demonstrate the use of the importlib module to import a module dynamically.\"   \n",
    "#The importlib module in Python allows you to perform dynamic imports. Here's an example demonstrating how to use importlib to import a module dynamically:\n",
    "import importlib\n",
    "\n",
    "def dynamically_import_module(module_name):\n",
    "    try:\n",
    "        # Use importlib to dynamically import the specified module\n",
    "        imported_module = importlib.import_module(module_name)\n",
    "        \n",
    "        # Assuming the imported module has a function called 'hello'\n",
    "        if hasattr(imported_module, 'hello') and callable(imported_module.hello):\n",
    "            imported_module.hello()\n",
    "        else:\n",
    "            print(f\"The module {module_name} does not have a 'hello' function.\")\n",
    "    except ImportError:\n",
    "        print(f\"Error: Module '{module_name}' not found.\")\n",
    "\n",
    "# Example:-\n",
    "module_to_import = \"math\"  # You can change this to any module name you want to import dynamically\n",
    "dynamically_import_module(module_to_import)   "
   ]
  },
  {
   "cell_type": "code",
   "execution_count": 42,
   "id": "cc959634",
   "metadata": {},
   "outputs": [
    {
     "name": "stdout",
     "output_type": "stream",
     "text": [
      "angle_in_degrees is equal to angle_in_radians\n"
     ]
    }
   ],
   "source": [
    "\"Implement a function that takes an angle in degrees and converts it to radians using the math module.\"\n",
    "import math\n",
    "def degrees_to_radians(degrees):\n",
    "    radians = math.radians(degrees)\n",
    "    return radians\n",
    "# Example:\n",
    "angle_in_degrees = 45\n",
    "angle_in_radians = degrees_to_radians(angle_in_degrees)\n",
    "print(\"angle_in_degrees is equal to angle_in_radians\")\n"
   ]
  },
  {
   "cell_type": "code",
   "execution_count": 43,
   "id": "75cc7b9b",
   "metadata": {},
   "outputs": [
    {
     "name": "stdout",
     "output_type": "stream",
     "text": [
      "Simulating rolling a six-sided die\n",
      "Roll: 6\n",
      "Roll: 6\n",
      "Roll: 3\n",
      "Roll: 3\n",
      "Roll: 6\n"
     ]
    }
   ],
   "source": [
    "\"Create a program that simulates the rolling of a six-sided die using the random module.\"\n",
    "import random\n",
    "def roll_die():\n",
    "    return random.randint(1, 6)\n",
    "# Simulate rolling the die 5 times\n",
    "num_rolls = 5\n",
    "print(\"Simulating rolling a six-sided die\")\n",
    "for _ in range(num_rolls):\n",
    "    result = roll_die()\n",
    "    print(f\"Roll: {result}\")"
   ]
  },
  {
   "cell_type": "code",
   "execution_count": 24,
   "id": "f42206d1",
   "metadata": {},
   "outputs": [
    {
     "name": "stdout",
     "output_type": "stream",
     "text": [
      "Execution time: 0.056982 seconds\n"
     ]
    }
   ],
   "source": [
    "\"Implement a timer function that measures the execution time of a piece of code using the time module.\"\n",
    "import time\n",
    "\n",
    "def timer(func):\n",
    "    def wrapper(*args, **kwargs):\n",
    "        start_time = time.time()\n",
    "        result = func(*args, **kwargs)\n",
    "        end_time = time.time()\n",
    "        elapsed_time = end_time - start_time\n",
    "        print(f\"Execution time: {elapsed_time:.6f} seconds\")\n",
    "        return result\n",
    "    return wrapper\n",
    "\n",
    "# Example:\n",
    "\n",
    "@timer\n",
    "def example_code():\n",
    "    # Place the code you want to measure here\n",
    "    for i in range(1000000):\n",
    "        i = 1 + 10\n",
    "\n",
    "# Call the decorated function\n",
    "example_code()\n"
   ]
  },
  {
   "cell_type": "code",
   "execution_count": 25,
   "id": "e161b87e",
   "metadata": {},
   "outputs": [
    {
     "name": "stdout",
     "output_type": "stream",
     "text": [
      "The difference in days between 2022-01-01 and 2022-12-31 is 364 days.\n"
     ]
    }
   ],
   "source": [
    "\"Write a function that calculates the difference in days between two given dates using the datetime module.\"\n",
    "from datetime import datetime\n",
    "\n",
    "def difference_in_days(date1, date2):\n",
    "    # Assuming date1 and date2 are in the format \"YYYY-MM-DD\"\n",
    "    date_format = \"%Y-%m-%d\"\n",
    "\n",
    "    # Convert the input strings to datetime objects\n",
    "    datetime1 = datetime.strptime(date1, date_format)\n",
    "    datetime2 = datetime.strptime(date2, date_format)\n",
    "\n",
    "    # Calculate the difference in days\n",
    "    difference = abs((datetime2 - datetime1).days)\n",
    "\n",
    "    return difference\n",
    "\n",
    "# Example usage:\n",
    "\n",
    "date_1 = \"2022-01-01\"\n",
    "date_2 = \"2022-12-31\"\n",
    "\n",
    "days_difference = difference_in_days(date_1, date_2)\n",
    "\n",
    "print(f\"The difference in days between {date_1} and {date_2} is {days_difference} days.\")  "
   ]
  },
  {
   "cell_type": "code",
   "execution_count": 29,
   "id": "5f8ed463",
   "metadata": {},
   "outputs": [
    {
     "name": "stdout",
     "output_type": "stream",
     "text": [
      "2024 is a leap year.\n"
     ]
    }
   ],
   "source": [
    "\"Implement a program that checks if a given year is a leap year using the calendar module.\"\n",
    "import calendar\n",
    "\n",
    "def is_leap_year(year):\n",
    "    return calendar.isleap(year)\n",
    "\n",
    "# Example usage:\n",
    "\n",
    "year_to_check = 2024\n",
    "\n",
    "if is_leap_year(year_to_check):\n",
    "    print(f\"{year_to_check} is a leap year.\")\n",
    "else:\n",
    "    print(f\"{year_to_check} is not a leap year.\")\n",
    "   "
   ]
  },
  {
   "cell_type": "code",
   "execution_count": 32,
   "id": "6a632f77",
   "metadata": {},
   "outputs": [
    {
     "name": "stdout",
     "output_type": "stream",
     "text": [
      "The file example.txt does not exist in the directory /path/to/directory.\n"
     ]
    }
   ],
   "source": [
    "\"Create a program that checks if a specific file exists in a given directory using the os module.\"\n",
    "import os\n",
    "def check_file_existence(directory, filename):\n",
    "    file_path = os.path.join(directory, filename)\n",
    "    return os.path.exists(file_path)\n",
    "# Example:\n",
    "directory_to_check = '/path/to/directory'\n",
    "file_to_check = 'example.txt'\n",
    "if check_file_existence(directory_to_check, file_to_check):\n",
    "    print(f\"The file {file_to_check} exists in the directory {directory_to_check}.\")\n",
    "else:\n",
    "    print(f\"The file {file_to_check} does not exist in the directory {directory_to_check}.\")  "
   ]
  },
  {
   "cell_type": "code",
   "execution_count": 33,
   "id": "3b72ce54",
   "metadata": {},
   "outputs": [
    {
     "name": "stdout",
     "output_type": "stream",
     "text": [
      "Task 1 is running\n",
      "Task 2 is running\n",
      "Task 3 is running\n",
      "Task 2 is runningTask 1 is running\n",
      "Task 3 is running\n",
      "\n",
      "Task 3 is runningTask 1 is running\n",
      "Task 2 is running\n",
      "\n",
      "Task 1 is runningTask 2 is running\n",
      "\n",
      "Task 3 is running\n",
      "Task 2 is runningTask 1 is running\n",
      "\n",
      "Task 3 is running\n",
      "All tasks have finished.\n"
     ]
    }
   ],
   "source": [
    "\"Write a program that uses threading to perform parallel execution of three tasks.\"\n",
    "import threading\n",
    "import time\n",
    "\n",
    "def task1():\n",
    "    for _ in range(5):\n",
    "        print(\"Task 1 is running\")\n",
    "        time.sleep(1)\n",
    "\n",
    "def task2():\n",
    "    for _ in range(5):\n",
    "        print(\"Task 2 is running\")\n",
    "        time.sleep(1)\n",
    "\n",
    "def task3():\n",
    "    for _ in range(5):\n",
    "        print(\"Task 3 is running\")\n",
    "        time.sleep(1)\n",
    "\n",
    "# Create threads for each task\n",
    "thread1 = threading.Thread(target=task1)\n",
    "thread2 = threading.Thread(target=task2)\n",
    "thread3 = threading.Thread(target=task3)\n",
    "\n",
    "# Start the threads\n",
    "thread1.start()\n",
    "thread2.start()\n",
    "thread3.start()\n",
    "\n",
    "# Wait for all threads to finish\n",
    "thread1.join()\n",
    "thread2.join()\n",
    "thread3.join()\n",
    "\n",
    "print(\"All tasks have finished.\")\n",
    "   "
   ]
  },
  {
   "cell_type": "code",
   "execution_count": 35,
   "id": "8b32e8fa",
   "metadata": {},
   "outputs": [
    {
     "name": "stdout",
     "output_type": "stream",
     "text": [
      "Error: HTTP Error 404: Not Found\n"
     ]
    }
   ],
   "source": [
    "\"Implement a program that downloads an image from a URL using the urllib module.\"\n",
    "import urllib.request\n",
    "def download_image(url, destination):\n",
    "    try:\n",
    "        urllib.request.urlretrieve(url, destination)\n",
    "        print(f\"Image downloaded successfully to {destination}\")\n",
    "    except Exception as e:\n",
    "        print(f\"Error: {e}\")\n",
    "# Example:\n",
    "\n",
    "image_url = \"https://example.com/image.jpg\"\n",
    "save_path = \"downloaded_image.jpg\"\n",
    "\n",
    "download_image(image_url, save_path)   "
   ]
  },
  {
   "cell_type": "code",
   "execution_count": null,
   "id": "26307f97",
   "metadata": {},
   "outputs": [],
   "source": []
  },
  {
   "cell_type": "code",
   "execution_count": null,
   "id": "569d32af",
   "metadata": {},
   "outputs": [],
   "source": []
  },
  {
   "cell_type": "code",
   "execution_count": null,
   "id": "5de6b18b",
   "metadata": {},
   "outputs": [],
   "source": []
  }
 ],
 "metadata": {
  "kernelspec": {
   "display_name": "Python 3 (ipykernel)",
   "language": "python",
   "name": "python3"
  },
  "language_info": {
   "codemirror_mode": {
    "name": "ipython",
    "version": 3
   },
   "file_extension": ".py",
   "mimetype": "text/x-python",
   "name": "python",
   "nbconvert_exporter": "python",
   "pygments_lexer": "ipython3",
   "version": "3.11.3"
  }
 },
 "nbformat": 4,
 "nbformat_minor": 5
}
